{
 "cells": [
  {
   "cell_type": "markdown",
   "metadata": {},
   "source": [
    "#### 1. What are escape characters, and how do you use them?\n",
    "#### Answer: The escape characters allows us to use few characters which have special meaning (like tab . quotation marks etc) as it is in the string. We use backslash (\\) character before the escape characters, in the string’ to print them.\n",
    "\n",
    "#### --------------------------------------------------------------------------------------------------------------------------------------------------------"
   ]
  },
  {
   "cell_type": "markdown",
   "metadata": {},
   "source": [
    "#### 2. What do the escape characters n and t stand for?\n",
    "\n",
    "#### Answer: \\n is newline and \\t is tab.\n",
    "\n",
    "#### --------------------------------------------------------------------------------------------------------------------------------------------------------\n"
   ]
  },
  {
   "cell_type": "markdown",
   "metadata": {},
   "source": [
    "#### 3. What is the way to include backslash characters in a string?\n",
    "\n",
    "#### Answer: We can include the escape sequence as follows - \\\\\n",
    "\n",
    "#### --------------------------------------------------------------------------------------------------------------------------------------------------------\n"
   ]
  },
  {
   "cell_type": "markdown",
   "metadata": {},
   "source": [
    "#### 4. The string \"Howl's Moving Castle\" is a correct value. Why isn't the single quote character in the word Howl's not escaped a problem?\n",
    "\n",
    "#### Answer: The single quote character in the word Howl's not escaped a problem because in Python language, it is allowed to use single quotations inside the string delimited by double quote and vice versa.\n",
    "\n",
    "#### --------------------------------------------------------------------------------------------------------------------------------------------------------\n"
   ]
  },
  {
   "cell_type": "markdown",
   "metadata": {},
   "source": [
    "#### 5. How do you write a string of newlines if you don't want to use the n character?\n",
    "\n",
    "#### Answer: We delimit the string with triple quotation marks which allows multiline string.\n",
    "\n",
    "#### --------------------------------------------------------------------------------------------------------------------------------------------------------"
   ]
  },
  {
   "cell_type": "markdown",
   "metadata": {},
   "source": [
    "#### 6. What are the values of the given expressions?\n",
    "~~~\n",
    "'Hello, world!'[1]\n",
    "'Hello, world!'[0:5]\n",
    "'Hello, world!'[:5]\n",
    "'Hello, world!'[3:]\n",
    "~~~\n",
    "#### Answer:\n",
    "~~~\n",
    "‘e’\n",
    "‘Hello’\n",
    "‘Hello’\n",
    "'lo, world!'\n",
    "~~~\n",
    "\n",
    "\n",
    "\n",
    "#### --------------------------------------------------------------------------------------------------------------------------------------------------------"
   ]
  },
  {
   "cell_type": "markdown",
   "metadata": {},
   "source": [
    "#### 7. What are the values of the following expressions?\n",
    "~~~\n",
    "'Hello'.upper()\n",
    "'Hello'.upper().isupper()\n",
    "'Hello'.upper().lower()\n",
    "~~~\n",
    "#### Answer:\n",
    "~~~\n",
    "‘HELLO’\n",
    "True\n",
    "‘hello’\n",
    "~~~\n",
    "\n",
    "#### --------------------------------------------------------------------------------------------------------------------------------------------------------"
   ]
  },
  {
   "cell_type": "markdown",
   "metadata": {},
   "source": [
    "#### 8. What are the values of the following expressions?\n",
    "~~~\n",
    "'Remember, remember, the fifth of July.'.split()\n",
    "'-'.join('There can only one.'.split())\n",
    "~~~\n",
    "#### Answer:\n",
    "~~~\n",
    "['Remember,’,‘remember,’,‘the’,‘fifth’,‘of’,‘July.']\n",
    "'There-can-only-one.'\n",
    "~~~\n",
    "\n",
    "#### --------------------------------------------------------------------------------------------------------------------------------------------------------"
   ]
  },
  {
   "cell_type": "markdown",
   "metadata": {},
   "source": [
    "#### 9. What are the methods for right-justifying, left-justifying, and centering a string?\n",
    "####  Answer: rjust(),ljust() and center()\n",
    "\n",
    "\n",
    "#### --------------------------------------------------------------------------------------------------------------------------------------------------------"
   ]
  },
  {
   "cell_type": "markdown",
   "metadata": {},
   "source": [
    "#### 10. What is the best way to remove whitespace characters from the start or end?\n",
    "\n",
    "#### Answer:  lstrip() and rstrip()\n",
    "\n",
    "\n",
    "#### --------------------------------------------------------------------------------------------------------------------------------------------------------"
   ]
  }
 ],
 "metadata": {
  "kernelspec": {
   "display_name": "Python 3",
   "language": "python",
   "name": "python3"
  },
  "language_info": {
   "codemirror_mode": {
    "name": "ipython",
    "version": 3
   },
   "file_extension": ".py",
   "mimetype": "text/x-python",
   "name": "python",
   "nbconvert_exporter": "python",
   "pygments_lexer": "ipython3",
   "version": "3.8.5"
  }
 },
 "nbformat": 4,
 "nbformat_minor": 4
}
