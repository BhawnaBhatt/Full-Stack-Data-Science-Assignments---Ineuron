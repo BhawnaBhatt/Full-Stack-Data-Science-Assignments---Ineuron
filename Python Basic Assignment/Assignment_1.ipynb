{
 "cells": [
  {
   "cell_type": "markdown",
   "metadata": {},
   "source": [
    "####  \n",
    "\n",
    "\n",
    "#### 1. In the below elements which of them are values or an expression? eg:- values can be integer or string and expressions will be mathematical operators.\n",
    "\n",
    "#### Answer –  \n",
    "\n",
    "####          *       \t    ----->          expression\n",
    "####          'hello'    ----->\t         value\n",
    "####          -87.8\t     ----->        value\n",
    "####          -\t            ----->        expression\n",
    "####         / \t\t\t    ----->        expression\n",
    "####         +\t           ----->        expression \n",
    "####         6\t           ----->        value\n",
    "\n",
    "#### ----------------------------------------------------------------------------------------------------------------------------------------------------------------------------------------\n"
   ]
  },
  {
   "cell_type": "markdown",
   "metadata": {},
   "source": [
    "####  \n",
    "\n",
    "\n",
    "#### 2. What is the difference between string and variable?\n",
    "\n",
    "#### Answer. \n",
    "\n",
    "#### A variable is a name that refers to a value. The value of a variable can change many times in the course of a program. The type of value that can be assigned to a variable (in python) can be integer, float, string as well as list, tuple etc.\n",
    "\n",
    "#### String is a sequence of characters. These characters can be of type numeric/text/or any other type. Strings are often enclosed in single /double quotation marks.\n",
    "\n",
    "####  The difference between variable and string is that the value of variable can be changed whereas the string cannot be modified once created. \n",
    "\n",
    "#### ----------------------------------------------------------------------------------------------------------------------------------------------------------------------------------------\n"
   ]
  },
  {
   "cell_type": "markdown",
   "metadata": {},
   "source": [
    "####  \n",
    "\n",
    "\n",
    "####  3. Describe three different data types.\n",
    "\n",
    "####  Answer.\n",
    "\n",
    "####  The three data types are – \n",
    "\n",
    "####  a.\tNumeric – The numeric data types are used to represent numbers such as integers, decimals and complex as well. The Python data types for this are int, float, complex.\n",
    "\n",
    "####  b.\tStrings -  The string datatype is used to represent text in form of sequence of characters. The Python data types for this is str.\n",
    "\n",
    "####  c.\tBoolean - The Boolean variable is used to define True/False type of variables. The Python data types for this is bool.\n",
    "\n",
    "#### ----------------------------------------------------------------------------------------------------------------------------------------------------------------------------------------\n"
   ]
  },
  {
   "cell_type": "markdown",
   "metadata": {},
   "source": [
    "####  \n",
    "\n",
    "\n",
    "####  4. What is an expression made up of? What do all expressions do?\n",
    "\n",
    "####  Answer.\n",
    "\n",
    "####  An expression is combination of values, variables and operators. When we type an expression at the prompt, the interpreter evaluates it and find its value. \n",
    "\n",
    "#### ----------------------------------------------------------------------------------------------------------------------------------------------------------------------------------------\n"
   ]
  },
  {
   "cell_type": "markdown",
   "metadata": {},
   "source": [
    "####  \n",
    "\n",
    "####  5. This assignment statements, like spam = 10. What is the difference between an expression and a statement?\n",
    "\n",
    "####  Answer.\n",
    "\n",
    "####  spam = 10\n",
    "\n",
    "####  The above assignment statement assigns the value of 10 to variable spam. So, right now, this variables contains /points to number 10 until it is changed to something else.\n",
    "\n",
    "####  An expression, when evaluated, has a value whereas a statement is the smallest unit of code that has some effect like creating a variable. Statements may or may not have values.\n",
    "\n",
    "####  Interpreter evaluates an expression whereas it executes a statement.\n",
    "\n",
    "#### ----------------------------------------------------------------------------------------------------------------------------------------------------------------------------------------\n"
   ]
  },
  {
   "cell_type": "markdown",
   "metadata": {},
   "source": [
    "####  \n",
    "\n",
    "####  6. After running the following code, what does the variable bacon contain?\n",
    "\n",
    "####  bacon = 22\n",
    "####  bacon + 1\n",
    "\n",
    "####  Answer.\n",
    "\n",
    "####  bacon will contain 22 only because the increased value has not been reassigned to bacon.\n",
    "#### ----------------------------------------------------------------------------------------------------------------------------------------------------------------------------------------\n"
   ]
  },
  {
   "cell_type": "markdown",
   "metadata": {},
   "source": [
    "####  \n",
    "\n",
    "####  7. What should the values of the following two terms be?\n",
    "\n",
    "####  a.'spam' + 'spamspam'\n",
    "####  b.'spam' * 3\n",
    "\n",
    "####  Answer.\n",
    "\n",
    "####  a. ‘spamspamspam’\n",
    "####  b. ‘spamspamspam’\n",
    "\n",
    "####  Both will have same value\n",
    "\n",
    "#### ----------------------------------------------------------------------------------------------------------------------------------------------------------------------------------------\n",
    "\n"
   ]
  },
  {
   "cell_type": "markdown",
   "metadata": {},
   "source": [
    "####  \n",
    "\n",
    "\n",
    "####  8. Why is eggs a valid variable name while 100 is invalid?\n",
    "####  Answer.\n",
    "\n",
    "####  The variable name cannot begin with a number so eggs is a valid variable name but 100 is not.\n",
    "\n",
    "#### ----------------------------------------------------------------------------------------------------------------------------------------------------------------------------------------\n"
   ]
  },
  {
   "cell_type": "markdown",
   "metadata": {},
   "source": [
    "####  \n",
    "\n",
    "\n",
    "####  9. What three functions can be used to get the integer, floating-point number, or string version of a value?\n",
    "\n",
    "####  Answer. The functions are –\n",
    "\n",
    "####  a.\tint()  \t-- for integer conversion\n",
    "####  b.\tfloat() \t–  for floating point conversion\n",
    "####  c.\tstr()\t--  for string conversion\n",
    "\n",
    "#### ----------------------------------------------------------------------------------------------------------------------------------------------------------------------------------------"
   ]
  },
  {
   "cell_type": "markdown",
   "metadata": {},
   "source": [
    "####  \n",
    "\n",
    "\n",
    "\n",
    "####  10. Why does this expression cause an error? How can you fix it?\n",
    "####  'I have eaten ' + 99 + ' burritos.'\n",
    "\n",
    "####  Answer.\n",
    "####  This is a string concatenation operation so all the three operands should be strings. Since 99 is not a string, so the expression causes an error.\n",
    "\n",
    "####  To fix this error we can use str() function to convert 99 t0 string ‘99’\n",
    "\n",
    "####  'I have eaten ' + str(99) + ' burritos.'\n",
    "\n",
    "#### ----------------------------------------------------------------------------------------------------------------------------------------------------------------------------------------"
   ]
  },
  {
   "cell_type": "code",
   "execution_count": null,
   "metadata": {},
   "outputs": [],
   "source": []
  }
 ],
 "metadata": {
  "kernelspec": {
   "display_name": "Python 3",
   "language": "python",
   "name": "python3"
  },
  "language_info": {
   "codemirror_mode": {
    "name": "ipython",
    "version": 3
   },
   "file_extension": ".py",
   "mimetype": "text/x-python",
   "name": "python",
   "nbconvert_exporter": "python",
   "pygments_lexer": "ipython3",
   "version": "3.8.5"
  }
 },
 "nbformat": 4,
 "nbformat_minor": 4
}
