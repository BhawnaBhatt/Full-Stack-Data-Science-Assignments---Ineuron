{
 "cells": [
  {
   "cell_type": "raw",
   "metadata": {},
   "source": [
    "1. In the below elements which of them are values or an expression? eg:- values can be integer or string and expressions will be mathematical operators.\n",
    "Ans –  \n",
    "*   \t\t-----------------------------  \texpression \n",
    "'hello'\t\t----------------------------- \tvalue\n",
    "-87.8\t\t-----------------------------\tvalue\n",
    "-    \t\t-----------------------------\texpression\n",
    "/ \t    \t----------------------------- \texpression\n",
    "+        \t-----------------------------   expression \n",
    "6 \t\t    -----------------------------   value\n"
   ]
  },
  {
   "cell_type": "raw",
   "metadata": {},
   "source": [
    "2. What is the difference between string and variable?\n",
    "Answer. \n",
    "A variable is a name that refers to a value. The value of a variable can change many times in the course of a program. The type of value that can be assigned to a variable (in python) can be integer, float, string as well as list, tuple etc.\n",
    " \n",
    " String is a sequence of characters. These characters can be of type numeric/text/or any other type. Strings are often enclosed in single /double quotation marks.\n",
    "\n",
    "The difference between variable and string is that the value of variable can be changed whereas the string cannot be modified once created. \n"
   ]
  },
  {
   "cell_type": "raw",
   "metadata": {},
   "source": [
    "3. Describe three different data types.\n",
    "Answer.\n",
    "The three data types are – \n",
    "a.\tNumeric – The numeric data types are used to represent numbers such as integers, decimals and complex as well. The Python data types for this are int, float, complex.\n",
    "\n",
    "b.\tStrings -  The string datatype is used to represent text in form of sequence of characters. The Python data types for this is str.\n",
    "\n",
    "c.\tBoolean - The Boolean variable is used to define True/False type of variables. The Python data types for this is bool.\n"
   ]
  },
  {
   "cell_type": "markdown",
   "metadata": {},
   "source": [
    "4. What is an expression made up of? What do all expressions do?\n",
    "Answer.\n",
    "\n",
    "An expression is combination of values, variables and operators. When we type an expression at the prompt, the interpreter evaluates it and find its value. \n"
   ]
  },
  {
   "cell_type": "raw",
   "metadata": {},
   "source": [
    "5. This assignment statements, like spam = 10. What is the difference between an expression and a statement?\n",
    "Answer.\n",
    "\n",
    "spam = 10\n",
    "\n",
    "The above assignment statement assigns the value of 10 to variable spam. So, right now, this variables contains /points to number 10 until it is changed to something else.\n",
    "An expression, when evaluated, has a value whereas a statement is the smallest unit of code that has some effect like creating a variable. Statements may or may not have values.\n",
    "Interpreter evaluates an expression whereas it executes a statement.\n"
   ]
  },
  {
   "cell_type": "raw",
   "metadata": {},
   "source": [
    "6. After running the following code, what does the variable bacon contain?\n",
    "bacon = 22\n",
    "bacon + 1\n",
    "\n",
    "Answer.\n",
    "\n",
    "bacon will contain 22 only because the increased value has not been reassigned to bacon.\n"
   ]
  },
  {
   "cell_type": "raw",
   "metadata": {},
   "source": [
    "7. What should the values of the following two terms be?\n",
    "'spam' + 'spamspam'\n",
    "'spam' * 3\n",
    "\n",
    "Answer.\n",
    "a.\t'spam' + 'spamspam'\t--------------------- ‘spamspamspam’\n",
    "b.\t'spam' * 3    \t\t------------ ‘spamspamspam’\n",
    "\n",
    "Both will have same value\n",
    "\n"
   ]
  }
 ],
 "metadata": {
  "kernelspec": {
   "display_name": "Python 3",
   "language": "python",
   "name": "python3"
  },
  "language_info": {
   "codemirror_mode": {
    "name": "ipython",
    "version": 3
   },
   "file_extension": ".py",
   "mimetype": "text/x-python",
   "name": "python",
   "nbconvert_exporter": "python",
   "pygments_lexer": "ipython3",
   "version": "3.8.5"
  }
 },
 "nbformat": 4,
 "nbformat_minor": 4
}
