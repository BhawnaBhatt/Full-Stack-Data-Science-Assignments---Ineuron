{
 "cells": [
  {
   "cell_type": "markdown",
   "metadata": {},
   "source": [
    "#### \n",
    "\n",
    "#### 1. Why are functions advantageous to have in your programs?\n",
    "#### Answer – The main purpose of defining functions in program is to avoid repetition of code. If there is a block of code which is being used repeatedly many times, then that code can be kept in a function and that code can be executed by calling the functions. \n",
    "\n",
    "#### The main advantages of functions are –\n",
    "#### 1.\tAvoid repeating code\n",
    "#### 2.\tSince code is contained in a function, it is safe from accidental change\n",
    "#### 3.\tUser of the function is shielded from the inner working of the function. User just needs to know the purpose of the function, arguments and values returned from the function.\n",
    "\n",
    "#### --------------------------------------------------------------------------------------------------------------------------------------------------------"
   ]
  },
  {
   "cell_type": "markdown",
   "metadata": {},
   "source": [
    "#### 2. When does the code in a function run: when it's specified or when it's called?\n",
    "#### Answer – The code in the function runs when the function is called.\n",
    "\n",
    "#### --------------------------------------------------------------------------------------------------------------------------------------------------------\n"
   ]
  },
  {
   "cell_type": "markdown",
   "metadata": {},
   "source": [
    "#### 3. What statement creates a function? \n",
    "#### Answer – The def statement , followed by function name and list of parameters, creates a function.\n",
    "\n",
    "#### --------------------------------------------------------------------------------------------------------------------------------------------------------\n"
   ]
  },
  {
   "cell_type": "markdown",
   "metadata": {},
   "source": [
    "#### 4. What is the difference between a function and a function call?\n",
    "#### Answer – A function is just definition of function which specifies what are the parameters required by the function, the code statement of function and the values returned by the function. It is defined by def statement. \n",
    "#### Whereas, the function call actually calls the function by giving it arguments and executing the statements and returning the computed values, if any.\n",
    "\n",
    "\n",
    "#### --------------------------------------------------------------------------------------------------------------------------------------------------------\n"
   ]
  },
  {
   "cell_type": "markdown",
   "metadata": {},
   "source": [
    "#### 5. How many global scopes are there in a Python program? How many local scopes?\n",
    "#### Answer –  There is only one global scope in a Python program execution. There can be as many local scopes as there are functions calls in the program.\n",
    "\n",
    "\n",
    "#### --------------------------------------------------------------------------------------------------------------------------------------------------------"
   ]
  },
  {
   "cell_type": "markdown",
   "metadata": {},
   "source": [
    "#### 6. What happens to variables in a local scope when the function call returns?\n",
    "#### Answer – The variables in local scope are destroyed when the function call returns. They cannot be referred because they don’t exist anymore.\n",
    "#### --------------------------------------------------------------------------------------------------------------------------------------------------------"
   ]
  },
  {
   "cell_type": "markdown",
   "metadata": {},
   "source": [
    "#### 7. What is the concept of a return value? Is it possible to have a return value in an expression?\n",
    "#### Answer – The return statement returns a value from a function. Yes, the return value can be used in an  expression.\n",
    "\n",
    "\n",
    "#### --------------------------------------------------------------------------------------------------------------------------------------------------------"
   ]
  },
  {
   "cell_type": "markdown",
   "metadata": {},
   "source": [
    "#### 8. If a function does not have a return statement, what is the return value of a call to that function?\n",
    "#### Answer – If a function does not have a return statement, None is returned from that function.\n",
    "\n",
    "#### --------------------------------------------------------------------------------------------------------------------------------------------------------"
   ]
  },
  {
   "cell_type": "markdown",
   "metadata": {},
   "source": [
    "#### 9. How do you make a function variable refer to the global variable?\n",
    "#### Answer – We use global declaration to make a function refer to a global variable.\n",
    "\n",
    "#### --------------------------------------------------------------------------------------------------------------------------------------------------------"
   ]
  },
  {
   "cell_type": "markdown",
   "metadata": {},
   "source": [
    "#### 10. What is the data type of None?\n",
    "#### Answer – The datatype of None is ‘ NoneType ‘\n",
    "\n",
    "\n",
    "#### --------------------------------------------------------------------------------------------------------------------------------------------------------"
   ]
  },
  {
   "cell_type": "markdown",
   "metadata": {},
   "source": [
    "#### 11. What does the sentence import areallyourpetsnamederic do?\n",
    "#### Answer – The sentence import areallyourpetsnamederic imports this module to our programs. This makes all the functions and classes of this module  available to our program.\n",
    "\n",
    "\n",
    "#### --------------------------------------------------------------------------------------------------------------------------------------------------------"
   ]
  },
  {
   "cell_type": "markdown",
   "metadata": {},
   "source": [
    "#### 12. If you had a bacon() feature in a spam module, what would you call it after importing spam?\n",
    "#### Answer – spam.bacon()\n",
    "\n",
    "\n",
    "#### --------------------------------------------------------------------------------------------------------------------------------------------------------"
   ]
  },
  {
   "cell_type": "markdown",
   "metadata": {},
   "source": [
    "#### 13. What can you do to save a programme from crashing if it encounters an error?\n",
    "#### Answer – We can use the try-exception block of python to catch errors and avoid crashing a program.\n",
    "\n",
    "\n",
    "#### --------------------------------------------------------------------------------------------------------------------------------------------------------"
   ]
  },
  {
   "cell_type": "markdown",
   "metadata": {},
   "source": [
    "#### 14. What is the purpose of the try clause? What is the purpose of the except clause?\n",
    "#### Answer – The try clause contains the code which can throw and error whereas the code which has to be executed when error occurs goes into exception clause.\n",
    "\n",
    "#### --------------------------------------------------------------------------------------------------------------------------------------------------------"
   ]
  }
 ],
 "metadata": {
  "kernelspec": {
   "display_name": "Python 3",
   "language": "python",
   "name": "python3"
  },
  "language_info": {
   "codemirror_mode": {
    "name": "ipython",
    "version": 3
   },
   "file_extension": ".py",
   "mimetype": "text/x-python",
   "name": "python",
   "nbconvert_exporter": "python",
   "pygments_lexer": "ipython3",
   "version": "3.8.5"
  }
 },
 "nbformat": 4,
 "nbformat_minor": 4
}
