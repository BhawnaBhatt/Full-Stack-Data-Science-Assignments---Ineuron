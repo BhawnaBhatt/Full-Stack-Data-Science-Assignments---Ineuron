{
 "cells": [
  {
   "cell_type": "markdown",
   "metadata": {},
   "source": [
    "#### \n",
    "#### 1.What are the two values of the Boolean data type? How do you write them?\n",
    "\n",
    "#### Answer.\n",
    "\n",
    "#### The two values of Boolean data type are True and False. They are written as keywords True and False. True evaluates to value 1 and False evaluates to value 0. \n",
    "\n",
    "#### ----------------------------------------------------------------------------------------------------------------------------------------------------------------------------------------"
   ]
  },
  {
   "cell_type": "markdown",
   "metadata": {},
   "source": [
    "#### \n",
    "\n",
    "####  2. What are the three different types of Boolean operators?\n",
    "\n",
    "####   Answer –\n",
    "\n",
    "####  The three Boolean operators are – \n",
    "\n",
    "####   1.\tAND (&&) - AND operator analyses both the operands and returns output to True only if both the operands evaluate to True, otherwise it evaluates to False.\n",
    "\n",
    "####  2.\tOR (||) – OR operator also analyses both the operands and returns output to False only if both the operands are False, otherwise it evaluates to True in all other cases.\n",
    "\n",
    "####  3.\tNOT(!) – NOT operator reverses the result of the Boolean expression which comes after it. \n",
    "\n",
    "#### ----------------------------------------------------------------------------------------------------------------------------------------------------------------------------------------\n"
   ]
  },
  {
   "cell_type": "markdown",
   "metadata": {},
   "source": [
    "#### \n",
    "\n",
    "#### 3. Make a list of each Boolean operator's truth tables (i.e. every possible combination of Boolean values for the operator and what it evaluates).\n",
    "\n",
    "#### Answer –\n",
    "#### *AND OPERATOR*\n",
    "\n",
    "####          | LEFT OP. | RIGHT OP. | RESULT\n",
    "####       \t  |\tTRUE       | \tTRUE      |   TRUE\n",
    "#### \t      |\tTRUE       | \tFALSE    | FASLE\n",
    "#### \t      |\tFALSE     | \tTRUE     |   FALSE\n",
    "#### \t      |\tFALSE     | \tFALSE   |   FALSE\n",
    "\n",
    "#### *OR OPERATOR*\n",
    "####          | LEFT OP. | RIGHT OP. | RESULT\n",
    "####       \t  |\tTRUE       | \tTRUE      |   TRUE\n",
    "#### \t      |\tTRUE       | \tFALSE    |   TRUE\n",
    "#### \t      |\tFALSE     | \tTRUE     |   TRUE\n",
    "#### \t      |\tFALSE     | \tFALSE   |    FALSE\n",
    "#### \n",
    "#### *NOT OPERATOR*\n",
    "\n",
    "####          | OP.           |  RESULT\n",
    "#### \t      |\tTRUE       | \tFALSE\n",
    "#### \t      |\tFALSE     | \tTRUE \n",
    "\n",
    "#### ----------------------------------------------------------------------------------------------------------------------------------------------------------------------------------------\n"
   ]
  },
  {
   "cell_type": "markdown",
   "metadata": {},
   "source": [
    "#### \n",
    "\n",
    "\n",
    "#### 4. What are the values of the following expressions?\n",
    "#### (5 > 4) and (3 == 5)\n",
    "#### not (5 > 4)\n",
    "#### (5 > 4) or (3 == 5)\n",
    "#### not ((5 > 4) or (3 == 5))\n",
    "#### (True and True) and (True == False)\n",
    "#### (not False) or (not True)\n",
    "\n",
    "#### Answer –\n",
    "#### (5 > 4) and (3 == 5)                                        |  False\n",
    "#### not (5 > 4)                                                       |  False\n",
    "#### (5 > 4) or (3 == 5)                                           |  True\n",
    "#### not ((5 > 4) or (3 == 5))                                  | False\n",
    "#### (True and True) and (True == False)            | False\n",
    "#### (not False) or (not True)                               |  True\n",
    "\n",
    "#### ----------------------------------------------------------------------------------------------------------------------------------------------------------------------------------------"
   ]
  },
  {
   "cell_type": "markdown",
   "metadata": {},
   "source": [
    "#### \n",
    "\n",
    "#### 5. What are the six comparison operators?\n",
    "#### Answer – The six comparison operator are –\n",
    "#### 1.\t<  (less than)\n",
    "#### 2.\t<= (less than or equal to)\n",
    "#### 3.\t>  (greater than)\n",
    "#### 4.\t>= (greater than or equal to)\n",
    "#### 5.\t== (equal to)\n",
    "#### 6.\t! = (not equal to)\n",
    "\n",
    "#### ----------------------------------------------------------------------------------------------------------------------------------------------------------------------------------------                                      "
   ]
  },
  {
   "cell_type": "markdown",
   "metadata": {},
   "source": [
    "#### \n",
    "\n",
    "\n",
    "#### 6. How do you tell the difference between the equal to and assignment operators? Describe a condition and when you would use one.\n",
    "#### Answer – \n",
    "#### The assignment operator is denoted by one = (equal to sign) and assigns a value to a variable.The comparison operator is denoted by double == (equal to sign) and it is used to compare two operands.\n",
    "\n",
    "#### For example – \n",
    "#### x = 4 assigns 4 to a variable named x whereas x== 4 compares if x is equal to 4 and then returns Boolean type True if both are equal otherwise False.\n",
    "\n",
    "\n",
    "#### ----------------------------------------------------------------------------------------------------------------------------------------------------------------------------------------"
   ]
  },
  {
   "cell_type": "markdown",
   "metadata": {},
   "source": [
    "#### \n",
    "\n",
    "\n",
    "#### 7. Identify the three blocks in this code:\n",
    "~~~ spam = 0\n",
    "if spam == 10:\n",
    "    print('eggs')\n",
    "if spam > 5:\n",
    "    print('bacon')\n",
    "else:\n",
    "    print('ham')\n",
    "    print('spam')\n",
    "    print('spam')\n",
    "~~~\n",
    "\n",
    "#### Answer – The three blocks of code are –\n",
    "\n",
    "#### 1. spam = 0\n",
    "\n",
    "#### 2. if spam == 10:\n",
    "          print('eggs')\n",
    " \n",
    "#### 3. if spam > 5:\n",
    "          print('bacon')\n",
    "       else:\n",
    "           print('ham')\n",
    "           print('spam')\n",
    "           print('spam')\n",
    "    \n",
    "\n",
    "\n",
    "#### ----------------------------------------------------------------------------------------------------------------------------------------------------------------------------------------"
   ]
  },
  {
   "cell_type": "markdown",
   "metadata": {},
   "source": [
    "#### \n",
    "\n",
    "#### 8. Write code that prints Hello if 1 is stored in spam, prints Howdy if 2 is stored in spam, and prints Greetings! if anything else is stored in spam.\n",
    "#### Answer:\n",
    "~~~\n",
    "spam = int(input('Please enter a value: '))\n",
    "if spam ==1:\n",
    "    print('Hello')\n",
    "elif spam == 2:\n",
    "    print('Howdy')\n",
    "else:\n",
    "    print('Greetings!')\n",
    "~~~\n",
    "\n",
    "\n",
    "#### ----------------------------------------------------------------------------------------------------------------------------------------------------------------------------------------"
   ]
  },
  {
   "cell_type": "markdown",
   "metadata": {},
   "source": [
    "#### \n",
    "\n",
    "#### 9.If your programme is stuck in an endless loop, what keys you’ll press?\n",
    "\n",
    "####  Answer : CTRL + C\n",
    "\n",
    "#### ----------------------------------------------------------------------------------------------------------------------------------------------------------------------------------------"
   ]
  },
  {
   "cell_type": "markdown",
   "metadata": {},
   "source": [
    "#### \n",
    "\n",
    "####  10. How can you tell the difference between break and continue?\n",
    "####  Answer : \n",
    "\n",
    "#### The break statement with bring the control out of the loop.The control statement does not execute the remaining statements following it and the control goes to the start of the loop.\n",
    "\n",
    "#### ----------------------------------------------------------------------------------------------------------------------------------------------------------------------------------------"
   ]
  },
  {
   "cell_type": "markdown",
   "metadata": {},
   "source": [
    "#### \n",
    "\n",
    "#### 11. In a for loop, what is the difference between range(10), range(0, 10), and range(0, 10, 1)?\n",
    "\n",
    "#### Answer :\n",
    "####  range(10), range(0, 10), and range(0, 10, 1) are all the same. They all will give range from 0 to 9.\n",
    "\n",
    "#### ----------------------------------------------------------------------------------------------------------------------------------------------------------------------------------------"
   ]
  },
  {
   "cell_type": "markdown",
   "metadata": {},
   "source": [
    "#### \n",
    "\n",
    "#### 12. Write a short program that prints the numbers 1 to 10 using a for loop. Then write an equivalent program that prints the numbers 1 to 10 using a while loop.\n",
    "####  Answer:\n",
    "\n",
    "1. for loop \n",
    "~~~ a\n",
    "for i in range(1, 11):\n",
    "         print(i)\n",
    "~~~    \n",
    "      \n",
    "2. while loop\n",
    "\n",
    "~~~ a\n",
    "i = 1\n",
    "while i <11:\n",
    "    print(i)\n",
    "    i +=1\n",
    "~~~\n",
    "#### ----------------------------------------------------------------------------------------------------------------------------------------------------------------------------------------"
   ]
  },
  {
   "cell_type": "markdown",
   "metadata": {},
   "source": [
    "#### \n",
    "\n",
    "#### 13. If you had a function named bacon() inside a module named spam, how would you call it after importing spam?\n",
    "\n",
    "#### Answer –\n",
    "\n",
    "#### Then bacon has to be called as below –\n",
    "####  spam.bacon()\n",
    "\n",
    "#### ----------------------------------------------------------------------------------------------------------------------------------------------------------------------------------------\n"
   ]
  }
 ],
 "metadata": {
  "kernelspec": {
   "display_name": "Python 3",
   "language": "python",
   "name": "python3"
  },
  "language_info": {
   "codemirror_mode": {
    "name": "ipython",
    "version": 3
   },
   "file_extension": ".py",
   "mimetype": "text/x-python",
   "name": "python",
   "nbconvert_exporter": "python",
   "pygments_lexer": "ipython3",
   "version": "3.8.5"
  }
 },
 "nbformat": 4,
 "nbformat_minor": 4
}
