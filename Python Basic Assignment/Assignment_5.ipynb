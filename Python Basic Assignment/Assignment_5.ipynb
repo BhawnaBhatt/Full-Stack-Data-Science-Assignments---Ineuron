{
 "cells": [
  {
   "cell_type": "markdown",
   "metadata": {},
   "source": [
    "#### 1.What does an empty dictionary's code look like?\n",
    "#### Answer: It will contain no key and value. If printed it will show – {}\n",
    "\n",
    "\n",
    "\n",
    "#### --------------------------------------------------------------------------------------------------------------------------------------------------------"
   ]
  },
  {
   "cell_type": "markdown",
   "metadata": {},
   "source": [
    "#### 2. What is the value of a dictionary value with the key 'foo' and the value 42?\n",
    "#### Answer: {‘foo’:42}\n",
    "\n",
    "\n",
    "\n",
    "#### --------------------------------------------------------------------------------------------------------------------------------------------------------\n"
   ]
  },
  {
   "cell_type": "markdown",
   "metadata": {},
   "source": [
    "#### 3. What is the most significant distinction between a dictionary and a list?\n",
    "\n",
    "#### Answer: The list is ordered while dictionary is not. Also list is indexed by integers starting with 0 whereas dictionary can be indexed with any key value.\n",
    "\n",
    "#### --------------------------------------------------------------------------------------------------------------------------------------------------------\n"
   ]
  },
  {
   "cell_type": "markdown",
   "metadata": {},
   "source": [
    "#### 4. What happens if you try to access spam['foo'] if spam is {'bar': 100}?\n",
    "####  Answer: We will get a Key error.\n",
    "\n",
    "\n",
    "\n",
    "\n",
    "#### --------------------------------------------------------------------------------------------------------------------------------------------------------\n"
   ]
  },
  {
   "cell_type": "markdown",
   "metadata": {},
   "source": [
    "#### 5. If a dictionary is stored in spam, what is the difference between the expressions 'cat' in spam and 'cat' in spam.keys()?\n",
    "\n",
    "#### Answer:  Both are same as ‘cat’ in spam also searches through the keys of the spam.\n",
    "\n",
    "\n",
    "\n",
    "\n",
    "\n",
    "#### --------------------------------------------------------------------------------------------------------------------------------------------------------"
   ]
  },
  {
   "cell_type": "markdown",
   "metadata": {},
   "source": [
    "#### 6. If a dictionary is stored in spam, what is the difference between the expressions 'cat' in spam and 'cat' in spam.values()?\n",
    "\n",
    "#### Answer: ‘cat’ in spam searches ‘cat’ in dictionary keys whereas ‘cat’ in spam.values searches ‘cat’ in values of the dictionary.\n",
    "\n",
    "\n",
    "\n",
    "#### --------------------------------------------------------------------------------------------------------------------------------------------------------"
   ]
  },
  {
   "cell_type": "markdown",
   "metadata": {},
   "source": [
    "#### 7. What is a shortcut for the following code?\n",
    "~~~ \n",
    "if 'color' not in spam:\n",
    "    spam['color'] = 'black'\n",
    "~~~\n",
    "\n",
    "#### Answer: We can use function setdefault(). The set default function will add the value to the dictionary if it is not present instead of giving Key error(in the if condition). \n",
    "\n",
    "\n",
    "\n",
    "#### --------------------------------------------------------------------------------------------------------------------------------------------------------"
   ]
  },
  {
   "cell_type": "markdown",
   "metadata": {},
   "source": [
    "#### 8. How do you \"pretty print\" dictionary values using which module and function?\n",
    "\n",
    "#### Answer: We import module ‘pprint’ and use the function ‘pprint()’\n",
    "\n",
    "\n",
    "#### --------------------------------------------------------------------------------------------------------------------------------------------------------"
   ]
  }
 ],
 "metadata": {
  "kernelspec": {
   "display_name": "Python 3",
   "language": "python",
   "name": "python3"
  },
  "language_info": {
   "codemirror_mode": {
    "name": "ipython",
    "version": 3
   },
   "file_extension": ".py",
   "mimetype": "text/x-python",
   "name": "python",
   "nbconvert_exporter": "python",
   "pygments_lexer": "ipython3",
   "version": "3.8.5"
  }
 },
 "nbformat": 4,
 "nbformat_minor": 4
}
