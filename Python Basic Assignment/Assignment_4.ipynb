{
 "cells": [
  {
   "cell_type": "markdown",
   "metadata": {},
   "source": [
    "#### 1. What exactly is []?\n",
    "#### Answer – [] is an empty list. It has no elements in it\n",
    "\n",
    "\n",
    "#### --------------------------------------------------------------------------------------------------------------------------------------------------------"
   ]
  },
  {
   "cell_type": "markdown",
   "metadata": {},
   "source": [
    "#### 2. In a list of values stored in a variable called spam, how would you assign the value 'hello' as the third value? (Assume [2, 4, 6, 8, 10] are in spam.)\n",
    "\n",
    "#### Answer:  spam[2] = ‘hello’\n",
    "\n",
    "\n",
    "#### --------------------------------------------------------------------------------------------------------------------------------------------------------\n"
   ]
  },
  {
   "cell_type": "markdown",
   "metadata": {},
   "source": [
    "#### Let's pretend the spam includes the list ['a', 'b', 'c', 'd'] for the next three queries.\n",
    "\n",
    "#### 3. What is the value of spam[int(int('3' * 2) / 11)]?\n",
    "#### Answer: ‘d’.\n",
    "#### int(int('3' * 2) / 11) – this evaluates to int(int(‘33’) / 11) to int(33 / 11)  to 3. So spam[3] will be ‘d’\n",
    "\n",
    "\n",
    "#### --------------------------------------------------------------------------------------------------------------------------------------------------------\n"
   ]
  },
  {
   "cell_type": "markdown",
   "metadata": {},
   "source": [
    "#### 4. What is the value of spam[-1]?\n",
    "#### Answer:’d’.\n",
    " #### The spam[-1] will be the last element in the list i.e. ‘d’\n",
    "\n",
    "\n",
    "\n",
    "#### --------------------------------------------------------------------------------------------------------------------------------------------------------\n"
   ]
  },
  {
   "cell_type": "markdown",
   "metadata": {},
   "source": [
    "#### 5. What is the value of spam[:2]?\n",
    "#### Answer:[‘a’,’b’]\n",
    "#### spam[:2] will contain elements at 0 and 1. So the result will be –[‘a’,’b’]\n",
    "\n",
    "\n",
    "\n",
    "#### --------------------------------------------------------------------------------------------------------------------------------------------------------"
   ]
  },
  {
   "cell_type": "markdown",
   "metadata": {},
   "source": [
    "#### Let's pretend bacon has the list [3.14, 'cat,' 11, 'cat,' True] for the next three questions.\n",
    "\n",
    "#### 6. What is the value of bacon.index('cat')?\n",
    "#### Answer: 1. \n",
    "#### Since there are two elemenst ‘cat’ in the list, the index method returns the index of first elelment. So the bacon.index('cat') will return 1.\n",
    "\n",
    "#### --------------------------------------------------------------------------------------------------------------------------------------------------------"
   ]
  },
  {
   "cell_type": "markdown",
   "metadata": {},
   "source": [
    "#### 7. How does bacon.append(99) change the look of the list value in bacon?\n",
    "#### Answer: The list becomes like this – [3.14, 'cat', 11, 'cat', True,99]\n",
    "\n",
    "\n",
    "\n",
    "#### --------------------------------------------------------------------------------------------------------------------------------------------------------"
   ]
  },
  {
   "cell_type": "markdown",
   "metadata": {},
   "source": [
    "#### 8. How does bacon.remove('cat') change the look of the list in bacon?\n",
    "#### Answer: bacon.remove('cat') removes the first occurrence of ‘cat’ on the list.\n",
    "#### [3.14, 11, 'cat', True,99]\n",
    "\n",
    "\n",
    "#### --------------------------------------------------------------------------------------------------------------------------------------------------------"
   ]
  },
  {
   "cell_type": "markdown",
   "metadata": {},
   "source": [
    "#### 9. What are the list concatenation and list replication operators?\n",
    "#### Answer: The list concatenation operator is ‘+’ and list replication operator is ‘*’.\n",
    "\n",
    "\n",
    "\n",
    "#### --------------------------------------------------------------------------------------------------------------------------------------------------------"
   ]
  },
  {
   "cell_type": "markdown",
   "metadata": {},
   "source": [
    "#### 10. What is difference between the list methods append() and insert()?\n",
    "#### Answer: The append() method always add an elements at end of the list whereas insert  can add them at the index provided to the method.\n",
    "\n",
    "\n",
    "#### --------------------------------------------------------------------------------------------------------------------------------------------------------"
   ]
  },
  {
   "cell_type": "markdown",
   "metadata": {},
   "source": [
    "#### 11. What are the two methods for removing items from a list?\n",
    "#### Answer: The two methods are – remove(0 and del statement.\n",
    "\n",
    "\n",
    "\n",
    "#### --------------------------------------------------------------------------------------------------------------------------------------------------------"
   ]
  },
  {
   "cell_type": "markdown",
   "metadata": {},
   "source": [
    "#### 12. Describe how list values and string values are identical.\n",
    "#### Answer: The list and string values can both be referenced by index, sliced, concatenated and replicated . The same set of methods line len(), in and not in operator can be used on them. \n",
    "\n",
    "\n",
    "\n",
    "#### --------------------------------------------------------------------------------------------------------------------------------------------------------"
   ]
  },
  {
   "cell_type": "markdown",
   "metadata": {},
   "source": [
    "#### 13. What's the difference between tuples and lists?\n",
    "#### Answer: Tuples are immutable whereas lists are mutable.\n",
    "\n",
    "\n",
    "#### --------------------------------------------------------------------------------------------------------------------------------------------------------"
   ]
  },
  {
   "cell_type": "markdown",
   "metadata": {},
   "source": [
    "#### 13. What's the difference between tuples and lists?\n",
    "#### Answer: Tuples are immutable whereas lists are mutable.\n",
    "\n",
    "--------------------------------------------------------------------------------------------------------------------------------------------------------¶"
   ]
  },
  {
   "cell_type": "markdown",
   "metadata": {},
   "source": [
    "#### 14. How do you type a tuple value that only contains the integer 42?\n",
    "#### Answer: t1 = (42,)\n",
    "#### If tuple contains only one value, a comma is required after that value so that python interpreter can identify it as a tuple. \n",
    "--------------------------------------------------------------------------------------------------------------------------------------------------------¶"
   ]
  },
  {
   "cell_type": "markdown",
   "metadata": {},
   "source": [
    "#### 15. How do you get a list value's tuple form? How do you get a tuple value's list form?\n",
    "#### Answer: We can use typecast functions tuple() and list() to convert tuple into list and list into tuple respectively.\n",
    "\n",
    "--------------------------------------------------------------------------------------------------------------------------------------------------------¶"
   ]
  },
  {
   "cell_type": "markdown",
   "metadata": {},
   "source": [
    "#### 16. Variables that \"contain\" list values are not necessarily lists themselves. Instead, what do they contain?\n",
    "#### Answer: They contain reference to the list. Python allocates the list in the memory and the variables contain the address/reference to that list , not the actual list themselves.\n",
    "\n",
    "--------------------------------------------------------------------------------------------------------------------------------------------------------¶"
   ]
  },
  {
   "cell_type": "markdown",
   "metadata": {},
   "source": [
    "#### 17. How do you distinguish between copy.copy() and copy.deepcopy()?\n",
    "#### Answer: The copy.copy() function will copy the list but it will not copy the lists inside the list , if there are any. To copy the inner list as well we use copy.deepcopy().\n",
    "--------------------------------------------------------------------------------------------------------------------------------------------------------¶"
   ]
  }
 ],
 "metadata": {
  "kernelspec": {
   "display_name": "Python 3",
   "language": "python",
   "name": "python3"
  },
  "language_info": {
   "codemirror_mode": {
    "name": "ipython",
    "version": 3
   },
   "file_extension": ".py",
   "mimetype": "text/x-python",
   "name": "python",
   "nbconvert_exporter": "python",
   "pygments_lexer": "ipython3",
   "version": "3.8.5"
  }
 },
 "nbformat": 4,
 "nbformat_minor": 4
}
