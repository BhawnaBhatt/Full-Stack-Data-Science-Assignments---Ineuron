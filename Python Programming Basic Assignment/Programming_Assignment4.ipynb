{
 "cells": [
  {
   "cell_type": "markdown",
   "id": "05d6535d",
   "metadata": {},
   "source": [
    "#### 1.\tWrite a Python Program to Find the Factorial of a Number?\n"
   ]
  },
  {
   "cell_type": "code",
   "execution_count": 57,
   "id": "2a7134ff",
   "metadata": {},
   "outputs": [
    {
     "name": "stdout",
     "output_type": "stream",
     "text": [
      "Please enter a number(for factorial): 5\n",
      "120\n"
     ]
    }
   ],
   "source": [
    "def factorial1(num):\n",
    "    if num == 1:\n",
    "        return num\n",
    "    else:\n",
    "        return (num * factorial1(num -1) )\n",
    "\n",
    "number = int(input('Please enter a number(for factorial): '))\n",
    "print(factorial1(number))"
   ]
  },
  {
   "cell_type": "markdown",
   "id": "c0929a6a",
   "metadata": {},
   "source": [
    "#### 2.\tWrite a Python Program to Display the multiplication Table?\n"
   ]
  },
  {
   "cell_type": "code",
   "execution_count": 58,
   "id": "333c3903",
   "metadata": {},
   "outputs": [
    {
     "name": "stdout",
     "output_type": "stream",
     "text": [
      "Please enter a number(for multiplication table): 12\n",
      "12  1's are         12\n",
      "12  2's are         24\n",
      "12  3's are         36\n",
      "12  4's are         48\n",
      "12  5's are         60\n",
      "12  6's are         72\n",
      "12  7's are         84\n",
      "12  8's are         96\n",
      "12  9's are        108\n",
      "12 10's are        120\n"
     ]
    }
   ],
   "source": [
    "number = int(input('Please enter a number(for multiplication table): '))\n",
    "for i in range(1,11):\n",
    "    print(f\"{number} {i:2d}'s are {number * i : 10d}\")\n",
    "    "
   ]
  },
  {
   "cell_type": "markdown",
   "id": "07568182",
   "metadata": {},
   "source": [
    "#### 3.\tWrite a Python Program to Print the Fibonacci sequence?\n"
   ]
  },
  {
   "cell_type": "code",
   "execution_count": 59,
   "id": "afb9aa97",
   "metadata": {},
   "outputs": [
    {
     "name": "stdout",
     "output_type": "stream",
     "text": [
      "Please enter the number of terms for fibonacci sequence: 10\n",
      "0\n",
      "1\n",
      "1\n",
      "2\n",
      "3\n",
      "5\n",
      "8\n",
      "13\n",
      "21\n",
      "34\n"
     ]
    }
   ],
   "source": [
    "a,b= 0,1\n",
    "limit = int(input('Please enter the number of terms for fibonacci sequence: '))\n",
    "print(a)\n",
    "print(b)\n",
    "for i in range(1,limit-1):\n",
    "    c = a+b\n",
    "    print(c)\n",
    "    a,b = b,c\n",
    "    "
   ]
  },
  {
   "cell_type": "markdown",
   "id": "fdbc7ce8",
   "metadata": {},
   "source": [
    "#### 4.\tWrite a Python Program to Check Armstrong Number?\n"
   ]
  },
  {
   "cell_type": "code",
   "execution_count": 60,
   "id": "b91d19eb",
   "metadata": {},
   "outputs": [
    {
     "name": "stdout",
     "output_type": "stream",
     "text": [
      "Please enter a number(to check if it is Armstrong number)1634\n",
      "1634 is an Armstrong Number\n"
     ]
    }
   ],
   "source": [
    "def arm_number(number):\n",
    "    numb_array = list(number)\n",
    "    \n",
    "    digits = len(numb_array)\n",
    "    \n",
    "    sum2 = 0\n",
    "    for i in numb_array:\n",
    "        sum2 += int(i) ** digits\n",
    "    if sum2 == int(number):\n",
    "        print(f'{number } is an Armstrong Number')\n",
    "    else:\n",
    "        print(f'{number } is not an Armstrong Number')\n",
    "    \n",
    "    \n",
    "number = input('Please enter a number(to check if it is Armstrong number)')   \n",
    "\n",
    "arm_number(number)"
   ]
  },
  {
   "cell_type": "markdown",
   "id": "718b495b",
   "metadata": {},
   "source": [
    "#### 5.\tWrite a Python Program to Find Armstrong Number in an Interval?\n"
   ]
  },
  {
   "cell_type": "code",
   "execution_count": 61,
   "id": "3cc1bfb7",
   "metadata": {},
   "outputs": [
    {
     "name": "stdout",
     "output_type": "stream",
     "text": [
      "Please enter a range in which you want to find the Armstrong numbers(seperated by space) :1000 10000\n",
      "1634 is an Armstrong Number\n",
      "8208 is an Armstrong Number\n",
      "9474 is an Armstrong Number\n"
     ]
    }
   ],
   "source": [
    "def arm_number1(number):\n",
    "    numb_array = list(number)\n",
    "    digits = len(numb_array)\n",
    "    \n",
    "    sum1 = 0\n",
    "    for i in numb_array:\n",
    "        sum1 += int(i) ** digits\n",
    "    if sum1 == int(number):\n",
    "        print(f'{number } is an Armstrong Number')\n",
    "    else:\n",
    "        pass\n",
    "\n",
    "user_range = input('Please enter a range in which you want to find the Armstrong numbers(seperated by space) :').split()\n",
    "for a in range(int(user_range[0]),int(user_range[1])+1):\n",
    "    arm_number1(str(a))"
   ]
  },
  {
   "cell_type": "markdown",
   "id": "ee176ba0",
   "metadata": {},
   "source": [
    "#### 6.\tWrite a Python Program to Find the Sum of Natural Numbers?"
   ]
  },
  {
   "cell_type": "code",
   "execution_count": 62,
   "id": "ceebcef1",
   "metadata": {},
   "outputs": [
    {
     "name": "stdout",
     "output_type": "stream",
     "text": [
      "Please enter the last natural(till which sum is to be found :)10\n",
      "The sum of 10 natural numbers is 55\n"
     ]
    }
   ],
   "source": [
    "number = int(input('Please enter the last natural(till which sum is to be found :)'))\n",
    "sum3 = 0\n",
    "for i in range(1,number+1):\n",
    "    sum3+= i\n",
    "print(f'The sum of {number} natural numbers is {sum3}')"
   ]
  },
  {
   "cell_type": "code",
   "execution_count": null,
   "id": "98cfa44d",
   "metadata": {},
   "outputs": [],
   "source": []
  }
 ],
 "metadata": {
  "kernelspec": {
   "display_name": "Python 3 (ipykernel)",
   "language": "python",
   "name": "python3"
  },
  "language_info": {
   "codemirror_mode": {
    "name": "ipython",
    "version": 3
   },
   "file_extension": ".py",
   "mimetype": "text/x-python",
   "name": "python",
   "nbconvert_exporter": "python",
   "pygments_lexer": "ipython3",
   "version": "3.9.7"
  }
 },
 "nbformat": 4,
 "nbformat_minor": 5
}
